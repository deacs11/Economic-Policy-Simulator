{
  "nbformat": 4,
  "nbformat_minor": 0,
  "metadata": {
    "colab": {
      "provenance": [],
      "authorship_tag": "ABX9TyMQkQM6XH+JmH25NkkuQsBH",
      "include_colab_link": true
    },
    "kernelspec": {
      "name": "python3",
      "display_name": "Python 3"
    },
    "language_info": {
      "name": "python"
    }
  },
  "cells": [
    {
      "cell_type": "markdown",
      "metadata": {
        "id": "view-in-github",
        "colab_type": "text"
      },
      "source": [
        "<a href=\"https://colab.research.google.com/github/deacs11/Economic-Policy-Simulator/blob/main/Economic_Policy_Simulator.ipynb\" target=\"_parent\"><img src=\"https://colab.research.google.com/assets/colab-badge.svg\" alt=\"Open In Colab\"/></a>"
      ]
    },
    {
      "cell_type": "markdown",
      "source": [
        "Setup and Initialization"
      ],
      "metadata": {
        "id": "U6wZXWPdVhd7"
      }
    },
    {
      "cell_type": "code",
      "execution_count": 1,
      "metadata": {
        "colab": {
          "base_uri": "https://localhost:8080/"
        },
        "id": "AstZyN4IVci2",
        "outputId": "3283daae-9d4d-4ebb-a11c-04f8d79d0b11"
      },
      "outputs": [
        {
          "output_type": "stream",
          "name": "stdout",
          "text": [
            "\u001b[2K     \u001b[90m━━━━━━━━━━━━━━━━━━━━━━━━━━━━━━━━━━━━━━━━\u001b[0m \u001b[32m69.7/69.7 kB\u001b[0m \u001b[31m5.4 MB/s\u001b[0m eta \u001b[36m0:00:00\u001b[0m\n",
            "\u001b[2K   \u001b[90m━━━━━━━━━━━━━━━━━━━━━━━━━━━━━━━━━━━━━━━━\u001b[0m \u001b[32m781.7/781.7 kB\u001b[0m \u001b[31m21.9 MB/s\u001b[0m eta \u001b[36m0:00:00\u001b[0m\n",
            "\u001b[2K   \u001b[90m━━━━━━━━━━━━━━━━━━━━━━━━━━━━━━━━━━━━━━━━\u001b[0m \u001b[32m245.7/245.7 kB\u001b[0m \u001b[31m11.9 MB/s\u001b[0m eta \u001b[36m0:00:00\u001b[0m\n",
            "\u001b[2K   \u001b[90m━━━━━━━━━━━━━━━━━━━━━━━━━━━━━━━━━━━━━━━━\u001b[0m \u001b[32m45.5/45.5 kB\u001b[0m \u001b[31m1.8 MB/s\u001b[0m eta \u001b[36m0:00:00\u001b[0m\n",
            "\u001b[2K   \u001b[90m━━━━━━━━━━━━━━━━━━━━━━━━━━━━━━━━━━━━━━━━\u001b[0m \u001b[32m147.8/147.8 kB\u001b[0m \u001b[31m6.5 MB/s\u001b[0m eta \u001b[36m0:00:00\u001b[0m\n",
            "\u001b[?25h✅ API key loaded.\n"
          ]
        }
      ],
      "source": [
        "!pip install -q pyautogen openai python-dotenv fpdf2\n",
        "\n",
        "from autogen import AssistantAgent, UserProxyAgent, GroupChat, GroupChatManager\n",
        "from google.colab import userdata\n",
        "import os\n",
        "\n",
        "# 🔐 Load API key\n",
        "api_key = userdata.get(\"OPENAI_API_KEY\")\n",
        "if not api_key:\n",
        "    raise ValueError(\"❌ No API key found! Check runtime secrets.\")\n",
        "print(\"✅ API key loaded.\")\n",
        "\n",
        "llm_config = {\n",
        "    \"config_list\": [{\n",
        "        \"model\": \"gpt-4\",\n",
        "        \"api_key\": api_key\n",
        "    }]\n",
        "}\n"
      ]
    },
    {
      "cell_type": "markdown",
      "source": [
        "Define Economic Agents"
      ],
      "metadata": {
        "id": "YECpOK3iVvKK"
      }
    },
    {
      "cell_type": "code",
      "source": [
        "keynesian_minister = AssistantAgent(\n",
        "    name=\"KeynesianMinister\",\n",
        "    system_message=\"You are a Keynesian economist. Propose fiscal stimulus and government intervention.\",\n",
        "    llm_config=llm_config\n",
        ")\n",
        "\n",
        "central_banker = AssistantAgent(\n",
        "    name=\"CentralBankGovernor\",\n",
        "    system_message=\"You are a monetarist. Focus on controlling inflation and adjusting interest rates.\",\n",
        "    llm_config=llm_config\n",
        ")\n",
        "\n",
        "business_representative = AssistantAgent(\n",
        "    name=\"BusinessRep\",\n",
        "    system_message=\"You represent the voice of business owners. Advocate for market-friendly and pro-growth policies.\",\n",
        "    llm_config=llm_config\n",
        ")\n",
        "\n",
        "union_leader = AssistantAgent(\n",
        "    name=\"UnionLeader\",\n",
        "    system_message=\"You speak for the working class. Defend employment, wages, and labor rights.\",\n",
        "    llm_config=llm_config\n",
        ")\n",
        "\n",
        "independent_office = AssistantAgent(\n",
        "    name=\"EconomicOffice\",\n",
        "    system_message=\"You are an independent analyst. Provide neutral impact assessments and projections.\",\n",
        "    llm_config=llm_config\n",
        ")"
      ],
      "metadata": {
        "id": "3nNn4ni9VvtI"
      },
      "execution_count": 2,
      "outputs": []
    },
    {
      "cell_type": "markdown",
      "source": [
        "User Agent"
      ],
      "metadata": {
        "id": "QQSW-0MWV1Jy"
      }
    },
    {
      "cell_type": "code",
      "source": [
        "moderator = UserProxyAgent(\n",
        "    name=\"HumanModerator\",\n",
        "    human_input_mode=\"NEVER\",\n",
        "    code_execution_config={\"work_dir\": \".\", \"use_docker\": False}\n",
        ")\n"
      ],
      "metadata": {
        "id": "0uUTX_o-V1me"
      },
      "execution_count": 3,
      "outputs": []
    },
    {
      "cell_type": "markdown",
      "source": [
        "Assemble the Virtual Ministry"
      ],
      "metadata": {
        "id": "3p9d8TOSV4xK"
      }
    },
    {
      "cell_type": "code",
      "source": [
        "economic_team = [\n",
        "    keynesian_minister,\n",
        "    central_banker,\n",
        "    business_representative,\n",
        "    union_leader,\n",
        "    independent_office,\n",
        "    moderator\n",
        "]\n",
        "\n",
        "econ_chat = GroupChat(\n",
        "    agents=economic_team,\n",
        "    messages=[],\n",
        "    max_round=5\n",
        ")\n",
        "\n",
        "econ_manager = GroupChatManager(\n",
        "    groupchat=econ_chat,\n",
        "    llm_config=llm_config\n",
        ")"
      ],
      "metadata": {
        "id": "pPdiqs_RV6yK"
      },
      "execution_count": 4,
      "outputs": []
    },
    {
      "cell_type": "markdown",
      "source": [
        "Define Scenario and Trigger Debate"
      ],
      "metadata": {
        "id": "wQ_7CTpcV_WJ"
      }
    },
    {
      "cell_type": "code",
      "source": [
        "crisis_prompt = \"\"\"\n",
        "The economy is entering a stagflation scenario: inflation is high, GDP is contracting, and unemployment is rising.\n",
        "\n",
        "As a virtual economic policy team, propose and discuss strategic responses from your perspectives. Evaluate pros and cons.\n",
        "\"\"\"\n",
        "\n",
        "moderator.initiate_chat(\n",
        "    econ_manager,\n",
        "    message=crisis_prompt\n",
        ")"
      ],
      "metadata": {
        "colab": {
          "base_uri": "https://localhost:8080/"
        },
        "id": "8MlQkvljV_0F",
        "outputId": "6d97b5c4-91c9-49a3-9a15-bbcb0b1bc9bd"
      },
      "execution_count": 5,
      "outputs": [
        {
          "output_type": "stream",
          "name": "stdout",
          "text": [
            "HumanModerator (to chat_manager):\n",
            "\n",
            "\n",
            "The economy is entering a stagflation scenario: inflation is high, GDP is contracting, and unemployment is rising.\n",
            "\n",
            "As a virtual economic policy team, propose and discuss strategic responses from your perspectives. Evaluate pros and cons.\n",
            "\n",
            "\n",
            "--------------------------------------------------------------------------------\n",
            "\n",
            "Next speaker: KeynesianMinister\n",
            "\n",
            "KeynesianMinister (to chat_manager):\n",
            "\n",
            "In response to this economic crisis, from a Keynesian perspective, we should use fiscal stimulus measures and active government intervention to stimulate economic activity and employment. We can primarily do this through two mechanisms: increase government spending and enact tax cuts. \n",
            "\n",
            "First, the government could increase direct spending on infrastructure projects, public works, education, and healthcare. This could lead to job creation and an increase in aggregate demand, which can spur an economic recovery. This government-driven increase in demand would employ idle resources, producing goods and services, and the increased employment would lead to more consumer spending, effectively creating a virtuous cycle of economic growth.\n",
            "\n",
            "Second, we could also look at reducing taxes, especially for the lower and middle classes. By doing so, the disposable income of these households would increase, which could lead to an increase in consumption and saving. That drives up demand, causing businesses to expand and hire more labor, alleviating unemployment.\n",
            "\n",
            "However, there are potential limits and risks to these policies. \n",
            "\n",
            "For the direct government spending route, it requires heavy investment which could lead to increased government debt. This might not be a concern in the short term as we're focused on economic recovery, but it does pose fiscal sustainability issues in the long run. Furthermore, this increase in spending could exacerbate inflation, especially if we're already in a situation of high inflation.\n",
            "\n",
            "As for tax reductions, while it can boost consumer spending, much would depend on individual behaviors. Households might choose to pay down debt or increase savings instead of consuming. Moreover, tax cuts can also lead to a substantial fall in government revenue, which could hinder the ability of the government to invest in critical programs or services.\n",
            "\n",
            "One way to offset this would be to have a balanced approach, combining spending increases in key areas such as infrastructure with targeted tax cuts. This would not only help stimulate the economy but also preserve some level of fiscal sustainability. \n",
            "\n",
            "Lastly, an active role for government in regulating economic activity can help smooth out economic fluctuations and prevent market failure. However, too much intervention may deter private investment and stifle entrepreneurship, setting stage for bureaucratic inefficiencies.\n",
            "\n",
            "In any case, this is a challenging situation and we need to balance competing concerns to navigate our way back to robust economic growth.\n",
            "\n",
            "--------------------------------------------------------------------------------\n",
            "\n",
            "Next speaker: CentralBankGovernor\n",
            "\n",
            "CentralBankGovernor (to chat_manager):\n",
            "\n",
            "As a monetarist, I agree that we are facing a challenging economic situation, but I see a different set of solutions. \n",
            "\n",
            "Monetarism emphasizes the role of governments in controlling the amount of money in circulation. One of the prime tools to manage the economy in a stagflation situation could be controlling inflation through tweaking the monetary supply. Given we're dealing with high inflation, our primary objective should be to tighten our monetary policy by raising interest rates or reducing the money supply.\n",
            "\n",
            "Raising the interest rate could decrease inflation by reducing people's willingness for borrowing, spending, and investing, which in return decreases the money supply in the economy. Similarly, reducing the money supply in the economy would reduce demand, lower prices, and curb inflation. \n",
            "\n",
            "Moreover, higher interest rates could attract foreign investment, leading to an appreciation of the currency which can further reduce inflation by making imports cheaper.\n",
            "\n",
            "However, these policies have potential drawbacks. Increasing interest rates might worsen the GDP contraction, at least in the short term, as businesses will reduce investment leading to a decrease in aggregate demand. After inflation is tamed, we can then gradually reduce interest rates to stimulate economic growth.\n",
            "\n",
            "Another crucial factor monetarists emphasize is policy predictability. Frequent changes in policy lead to uncertainty, which can be detrimental to the economy. Providing a stable and predictable economic environment might invite more private sector investment, enhancing GDP growth in the long-run.\n",
            "\n",
            "Moreover, monetarists believe in the power of free markets and limited government intervention. Less government interference allows businesses to adjust quickly and efficiently to changing economic conditions, which might result in recovery in GDP growth and unemployment over time.\n",
            "\n",
            "So, as a monetarist, I propose first focusing on controlling inflation using monetary policies and ensuring policy stability. The free market competition will help in the recovery of GDP growth and unemployment.\n",
            "\n",
            "--------------------------------------------------------------------------------\n",
            "\n",
            "Next speaker: BusinessRep\n",
            "\n",
            "BusinessRep (to chat_manager):\n",
            "\n",
            "Advocating from a business perspective, our focus should be on policies that ultimately stimulate growth, foster innovation, promote competition, and create a favourable business climate that encourages investments while enhancing job creation which together drive economic recovery.\n",
            "\n",
            "First, we can advocate for the easing of regulation. Reducing bureaucracy and streamlining the regulatory processes can lower barriers to entry, spur entrepreneurship and allow business expansion, which could offset some of the unemployment challenges we're facing.\n",
            "\n",
            "Second, we should strive for policies that ensure open and competitive markets. A free market allows for the efficient allocation of resources, fostering industries that are most beneficial for economic growth. \n",
            "\n",
            "Third, policies that provide incentives for R&D, innovation and skill development can be key to long-term recovery and growth. These can enhance productivity, create high-paying jobs, and make our industries more competitive globally. \n",
            "\n",
            "However, the business sector should also be mindful of potential drawbacks. Overemphasis on deregulation might lead to industrial excesses and market failures, as not all market outcomes are socially desirable. A complete reliance on market forces might exacerbate income inequalities, triggering social instability.\n",
            "\n",
            "Our approach should therefore balance between fostering a free and competitive environment for businesses and ensuring we have adequate regulations in place to avoid market failures and to distribute economic benefits more equitably among the society. This may require some government interventions where market failures exist. Collaborating closely with government institutions and regulators will be essential. \n",
            "\n",
            "An efficient market coupled with strategic and necessary government intervention can offer a balanced pathway towards addressing the stagflation situation, promoting economic recovery and growth, and building a resilient, inclusive and sustainable economy.\n",
            "\n",
            "--------------------------------------------------------------------------------\n",
            "\n",
            "Next speaker: UnionLeader\n",
            "\n",
            "UnionLeader (to chat_manager):\n",
            "\n",
            "As a representative of the working class and labor rights, I argue that workers should be at the forefront of any policy response to this stagflation scenario. \n",
            "\n",
            "Let's begin with pushing for a strong minimum wage policy. In the face of inflation, real wages decline, which can crush living standards for those at the bottom. A robust minimum wage can protect workers against such economic hardship and even stimulate demand by putting more money in the hands of consumers. \n",
            "\n",
            "Next, we must advocate for job protection and job creation policies. With rising unemployment, instituting a job guarantee program can provide a buffer for those who have lost their jobs or are struggling to find work. Direct hiring by the government can create jobs, particularly in sectors necessary for societal wellbeing such as green energy, infrastructure, and healthcare. \n",
            "\n",
            "Stronger collective bargaining rights can also curve wage stagnation and protect workers from arbitrary layoffs or work hour cuts. Labor laws ensuring job security and fair working conditions are essential, particularly in a crisis when workers are most vulnerable.\n",
            "\n",
            "Lastly, the provision of essential social services, like education, healthcare, and housing, can be a lifeline for struggling households. These services can ensure a minimum standard of living, even in times of crisis. \n",
            "\n",
            "These policies do come with their caveats. Raising minimum wages without considering business's ability to pay can push small firms out of business or lead them to cut employment. Job guarantee programs and social services need funding which can contribute further to the inflation problem if financed through government debt and might slow down businesses' responses to changes in the economy. \n",
            "\n",
            "Despite these concerns, a strong emphasis on labor rights and social security can provide a powerful counterweight to the worst effects of the stagflation crisis. The primary goal should be to protect the livelihoods of hardworking people, maintaining social stability and economic recovery sustainably and inclusively. \n",
            "\n",
            "In this diverse viewpoint, an ideal solution would seek a good balance between government intervention, regulatory reform, labor protection, and market-led growth strategies. This will involve targeted fiscal policies to stimulate growth, smart regulatory reforms to foster business activity, strong labor laws to protect workers, and monetary policies to stabilize inflation. This will ensure a holistic approach to overcome the current economic crisis.\n",
            "\n",
            "--------------------------------------------------------------------------------\n",
            "\n",
            ">>>>>>>> TERMINATING RUN (394dc8fb-4a8e-4ef5-95fe-497796338b8d): Maximum rounds (5) reached\n"
          ]
        },
        {
          "output_type": "execute_result",
          "data": {
            "text/plain": [
              "ChatResult(chat_id=None, chat_history=[{'content': '\\nThe economy is entering a stagflation scenario: inflation is high, GDP is contracting, and unemployment is rising.\\n\\nAs a virtual economic policy team, propose and discuss strategic responses from your perspectives. Evaluate pros and cons.\\n', 'role': 'assistant', 'name': 'HumanModerator'}, {'content': \"In response to this economic crisis, from a Keynesian perspective, we should use fiscal stimulus measures and active government intervention to stimulate economic activity and employment. We can primarily do this through two mechanisms: increase government spending and enact tax cuts. \\n\\nFirst, the government could increase direct spending on infrastructure projects, public works, education, and healthcare. This could lead to job creation and an increase in aggregate demand, which can spur an economic recovery. This government-driven increase in demand would employ idle resources, producing goods and services, and the increased employment would lead to more consumer spending, effectively creating a virtuous cycle of economic growth.\\n\\nSecond, we could also look at reducing taxes, especially for the lower and middle classes. By doing so, the disposable income of these households would increase, which could lead to an increase in consumption and saving. That drives up demand, causing businesses to expand and hire more labor, alleviating unemployment.\\n\\nHowever, there are potential limits and risks to these policies. \\n\\nFor the direct government spending route, it requires heavy investment which could lead to increased government debt. This might not be a concern in the short term as we're focused on economic recovery, but it does pose fiscal sustainability issues in the long run. Furthermore, this increase in spending could exacerbate inflation, especially if we're already in a situation of high inflation.\\n\\nAs for tax reductions, while it can boost consumer spending, much would depend on individual behaviors. Households might choose to pay down debt or increase savings instead of consuming. Moreover, tax cuts can also lead to a substantial fall in government revenue, which could hinder the ability of the government to invest in critical programs or services.\\n\\nOne way to offset this would be to have a balanced approach, combining spending increases in key areas such as infrastructure with targeted tax cuts. This would not only help stimulate the economy but also preserve some level of fiscal sustainability. \\n\\nLastly, an active role for government in regulating economic activity can help smooth out economic fluctuations and prevent market failure. However, too much intervention may deter private investment and stifle entrepreneurship, setting stage for bureaucratic inefficiencies.\\n\\nIn any case, this is a challenging situation and we need to balance competing concerns to navigate our way back to robust economic growth.\", 'name': 'KeynesianMinister', 'role': 'user'}, {'content': \"As a monetarist, I agree that we are facing a challenging economic situation, but I see a different set of solutions. \\n\\nMonetarism emphasizes the role of governments in controlling the amount of money in circulation. One of the prime tools to manage the economy in a stagflation situation could be controlling inflation through tweaking the monetary supply. Given we're dealing with high inflation, our primary objective should be to tighten our monetary policy by raising interest rates or reducing the money supply.\\n\\nRaising the interest rate could decrease inflation by reducing people's willingness for borrowing, spending, and investing, which in return decreases the money supply in the economy. Similarly, reducing the money supply in the economy would reduce demand, lower prices, and curb inflation. \\n\\nMoreover, higher interest rates could attract foreign investment, leading to an appreciation of the currency which can further reduce inflation by making imports cheaper.\\n\\nHowever, these policies have potential drawbacks. Increasing interest rates might worsen the GDP contraction, at least in the short term, as businesses will reduce investment leading to a decrease in aggregate demand. After inflation is tamed, we can then gradually reduce interest rates to stimulate economic growth.\\n\\nAnother crucial factor monetarists emphasize is policy predictability. Frequent changes in policy lead to uncertainty, which can be detrimental to the economy. Providing a stable and predictable economic environment might invite more private sector investment, enhancing GDP growth in the long-run.\\n\\nMoreover, monetarists believe in the power of free markets and limited government intervention. Less government interference allows businesses to adjust quickly and efficiently to changing economic conditions, which might result in recovery in GDP growth and unemployment over time.\\n\\nSo, as a monetarist, I propose first focusing on controlling inflation using monetary policies and ensuring policy stability. The free market competition will help in the recovery of GDP growth and unemployment.\", 'name': 'CentralBankGovernor', 'role': 'user'}, {'content': \"Advocating from a business perspective, our focus should be on policies that ultimately stimulate growth, foster innovation, promote competition, and create a favourable business climate that encourages investments while enhancing job creation which together drive economic recovery.\\n\\nFirst, we can advocate for the easing of regulation. Reducing bureaucracy and streamlining the regulatory processes can lower barriers to entry, spur entrepreneurship and allow business expansion, which could offset some of the unemployment challenges we're facing.\\n\\nSecond, we should strive for policies that ensure open and competitive markets. A free market allows for the efficient allocation of resources, fostering industries that are most beneficial for economic growth. \\n\\nThird, policies that provide incentives for R&D, innovation and skill development can be key to long-term recovery and growth. These can enhance productivity, create high-paying jobs, and make our industries more competitive globally. \\n\\nHowever, the business sector should also be mindful of potential drawbacks. Overemphasis on deregulation might lead to industrial excesses and market failures, as not all market outcomes are socially desirable. A complete reliance on market forces might exacerbate income inequalities, triggering social instability.\\n\\nOur approach should therefore balance between fostering a free and competitive environment for businesses and ensuring we have adequate regulations in place to avoid market failures and to distribute economic benefits more equitably among the society. This may require some government interventions where market failures exist. Collaborating closely with government institutions and regulators will be essential. \\n\\nAn efficient market coupled with strategic and necessary government intervention can offer a balanced pathway towards addressing the stagflation situation, promoting economic recovery and growth, and building a resilient, inclusive and sustainable economy.\", 'name': 'BusinessRep', 'role': 'user'}, {'content': \"As a representative of the working class and labor rights, I argue that workers should be at the forefront of any policy response to this stagflation scenario. \\n\\nLet's begin with pushing for a strong minimum wage policy. In the face of inflation, real wages decline, which can crush living standards for those at the bottom. A robust minimum wage can protect workers against such economic hardship and even stimulate demand by putting more money in the hands of consumers. \\n\\nNext, we must advocate for job protection and job creation policies. With rising unemployment, instituting a job guarantee program can provide a buffer for those who have lost their jobs or are struggling to find work. Direct hiring by the government can create jobs, particularly in sectors necessary for societal wellbeing such as green energy, infrastructure, and healthcare. \\n\\nStronger collective bargaining rights can also curve wage stagnation and protect workers from arbitrary layoffs or work hour cuts. Labor laws ensuring job security and fair working conditions are essential, particularly in a crisis when workers are most vulnerable.\\n\\nLastly, the provision of essential social services, like education, healthcare, and housing, can be a lifeline for struggling households. These services can ensure a minimum standard of living, even in times of crisis. \\n\\nThese policies do come with their caveats. Raising minimum wages without considering business's ability to pay can push small firms out of business or lead them to cut employment. Job guarantee programs and social services need funding which can contribute further to the inflation problem if financed through government debt and might slow down businesses' responses to changes in the economy. \\n\\nDespite these concerns, a strong emphasis on labor rights and social security can provide a powerful counterweight to the worst effects of the stagflation crisis. The primary goal should be to protect the livelihoods of hardworking people, maintaining social stability and economic recovery sustainably and inclusively. \\n\\nIn this diverse viewpoint, an ideal solution would seek a good balance between government intervention, regulatory reform, labor protection, and market-led growth strategies. This will involve targeted fiscal policies to stimulate growth, smart regulatory reforms to foster business activity, strong labor laws to protect workers, and monetary policies to stabilize inflation. This will ensure a holistic approach to overcome the current economic crisis.\", 'name': 'UnionLeader', 'role': 'user'}], summary=\"As a representative of the working class and labor rights, I argue that workers should be at the forefront of any policy response to this stagflation scenario. \\n\\nLet's begin with pushing for a strong minimum wage policy. In the face of inflation, real wages decline, which can crush living standards for those at the bottom. A robust minimum wage can protect workers against such economic hardship and even stimulate demand by putting more money in the hands of consumers. \\n\\nNext, we must advocate for job protection and job creation policies. With rising unemployment, instituting a job guarantee program can provide a buffer for those who have lost their jobs or are struggling to find work. Direct hiring by the government can create jobs, particularly in sectors necessary for societal wellbeing such as green energy, infrastructure, and healthcare. \\n\\nStronger collective bargaining rights can also curve wage stagnation and protect workers from arbitrary layoffs or work hour cuts. Labor laws ensuring job security and fair working conditions are essential, particularly in a crisis when workers are most vulnerable.\\n\\nLastly, the provision of essential social services, like education, healthcare, and housing, can be a lifeline for struggling households. These services can ensure a minimum standard of living, even in times of crisis. \\n\\nThese policies do come with their caveats. Raising minimum wages without considering business's ability to pay can push small firms out of business or lead them to cut employment. Job guarantee programs and social services need funding which can contribute further to the inflation problem if financed through government debt and might slow down businesses' responses to changes in the economy. \\n\\nDespite these concerns, a strong emphasis on labor rights and social security can provide a powerful counterweight to the worst effects of the stagflation crisis. The primary goal should be to protect the livelihoods of hardworking people, maintaining social stability and economic recovery sustainably and inclusively. \\n\\nIn this diverse viewpoint, an ideal solution would seek a good balance between government intervention, regulatory reform, labor protection, and market-led growth strategies. This will involve targeted fiscal policies to stimulate growth, smart regulatory reforms to foster business activity, strong labor laws to protect workers, and monetary policies to stabilize inflation. This will ensure a holistic approach to overcome the current economic crisis.\", cost={'usage_including_cached_inference': {'total_cost': 0}, 'usage_excluding_cached_inference': {'total_cost': 0}}, human_input=[])"
            ]
          },
          "metadata": {},
          "execution_count": 5
        }
      ]
    },
    {
      "cell_type": "markdown",
      "source": [
        "Synthesize the Discussion"
      ],
      "metadata": {
        "id": "42kvh_moWDWO"
      }
    },
    {
      "cell_type": "code",
      "source": [
        "synthesizer = AssistantAgent(\n",
        "    name=\"Synthesizer\",\n",
        "    system_message=\"Summarize the debate with a balanced executive summary and highlight key proposals.\",\n",
        "    llm_config=llm_config\n",
        ")\n",
        "\n",
        "full_discussion = \"\\n\\n\".join([\n",
        "    f\"{msg['role']}: {msg['content']}\" for msg in econ_chat.messages\n",
        "])\n",
        "\n",
        "response = synthesizer.generate_reply(messages=[\n",
        "    {\"role\": \"user\", \"content\": f\"Here is the discussion transcript:\\n\\n{full_discussion}\\n\\nSummarize the debate.\"}\n",
        "])\n",
        "\n",
        "summary = response"
      ],
      "metadata": {
        "id": "q6hZlHf6WFk9"
      },
      "execution_count": 7,
      "outputs": []
    },
    {
      "cell_type": "code",
      "source": [
        "!pip install fpdf"
      ],
      "metadata": {
        "colab": {
          "base_uri": "https://localhost:8080/"
        },
        "id": "O5au-CTEWovX",
        "outputId": "12f9b405-f3e9-4854-f14a-0c8355bf0c2e"
      },
      "execution_count": 10,
      "outputs": [
        {
          "output_type": "stream",
          "name": "stdout",
          "text": [
            "Collecting fpdf\n",
            "  Downloading fpdf-1.7.2.tar.gz (39 kB)\n",
            "  Preparing metadata (setup.py) ... \u001b[?25l\u001b[?25hdone\n",
            "Building wheels for collected packages: fpdf\n",
            "  Building wheel for fpdf (setup.py) ... \u001b[?25l\u001b[?25hdone\n",
            "  Created wheel for fpdf: filename=fpdf-1.7.2-py2.py3-none-any.whl size=40704 sha256=55bb27cb2a84799fbe3692f659c42d7fdba1a368b8ee60a125ebb42c6892ac03\n",
            "  Stored in directory: /root/.cache/pip/wheels/65/4f/66/bbda9866da446a72e206d6484cd97381cbc7859a7068541c36\n",
            "Successfully built fpdf\n",
            "Installing collected packages: fpdf\n",
            "Successfully installed fpdf-1.7.2\n"
          ]
        }
      ]
    },
    {
      "cell_type": "code",
      "source": [
        "import unicodedata\n",
        "\n",
        "# 🔧 Remove all characters not supported by 'latin-1'\n",
        "def normalize_to_ascii(text):\n",
        "    return unicodedata.normalize('NFKD', text).encode('ascii', 'ignore').decode('ascii')\n",
        "\n",
        "# ✂️ Normalize the transcript and summary\n",
        "clean_transcript = normalize_to_ascii(full_discussion)\n",
        "clean_summary = normalize_to_ascii(summary)"
      ],
      "metadata": {
        "id": "ga2FW4OiWwlH"
      },
      "execution_count": 12,
      "outputs": []
    },
    {
      "cell_type": "markdown",
      "source": [
        "Export to PDF"
      ],
      "metadata": {
        "id": "Fwu-Jbc-Wb4X"
      }
    },
    {
      "cell_type": "code",
      "source": [
        "from fpdf import FPDF\n",
        "\n",
        "pdf = FPDF()\n",
        "pdf.add_page()\n",
        "\n",
        "pdf.set_font(\"Helvetica\", \"B\", size=14)\n",
        "pdf.cell(200, 10, \"Economic Policy Simulation Output\", ln=True, align=\"C\")\n",
        "\n",
        "pdf.ln(10)\n",
        "pdf.set_font(\"Helvetica\", \"B\", size=12)\n",
        "pdf.cell(200, 10, \"Debate Transcript\", ln=True)\n",
        "\n",
        "pdf.set_font(\"Helvetica\", \"\", size=11)\n",
        "pdf.multi_cell(0, 8, clean_transcript)\n",
        "\n",
        "pdf.ln(10)\n",
        "pdf.set_font(\"Helvetica\", \"B\", size=12)\n",
        "pdf.cell(200, 10, \"AI-Generated Summary\", ln=True)\n",
        "\n",
        "pdf.set_font(\"Helvetica\", \"\", size=11)\n",
        "pdf.multi_cell(0, 8, clean_summary)\n",
        "\n",
        "pdf.output(\"economic_policy_simulator.pdf\")"
      ],
      "metadata": {
        "colab": {
          "base_uri": "https://localhost:8080/",
          "height": 35
        },
        "id": "mbh9W6jmXQBu",
        "outputId": "85d5e6ab-504d-4ce2-d67d-fb8a0b5f310a"
      },
      "execution_count": 15,
      "outputs": [
        {
          "output_type": "execute_result",
          "data": {
            "text/plain": [
              "''"
            ],
            "application/vnd.google.colaboratory.intrinsic+json": {
              "type": "string"
            }
          },
          "metadata": {},
          "execution_count": 15
        }
      ]
    }
  ]
}